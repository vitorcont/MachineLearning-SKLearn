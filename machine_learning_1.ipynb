{
  "nbformat": 4,
  "nbformat_minor": 0,
  "metadata": {
    "colab": {
      "name": "Modulo 1.ipynb",
      "provenance": [],
      "collapsed_sections": [],
      "authorship_tag": "ABX9TyNuNp2mLTsWYQj9GtXF4wUw",
      "include_colab_link": true
    },
    "kernelspec": {
      "name": "python3",
      "display_name": "Python 3"
    },
    "language_info": {
      "name": "python"
    }
  },
  "cells": [
    {
      "cell_type": "markdown",
      "metadata": {
        "id": "view-in-github",
        "colab_type": "text"
      },
      "source": [
        "<a href=\"https://colab.research.google.com/gist/vitorcont/39e6b9009a47f17230cc2d6540094535/modulo-1.ipynb\" target=\"_parent\"><img src=\"https://colab.research.google.com/assets/colab-badge.svg\" alt=\"Open In Colab\"/></a>"
      ]
    },
    {
      "cell_type": "code",
      "metadata": {
        "id": "yGMKnaNW2XD0"
      },
      "source": [
        "#features\n",
        "# pelo longo?, perna curta?, late?\n",
        "porco1=[0,1,0]\n",
        "porco2=[0,1,1]\n",
        "porco3=[1,1,0]\n",
        "\n",
        "dog1=[0,1,1]\n",
        "dog2=[1,0,1]\n",
        "dog3=[1,1,1]"
      ],
      "execution_count": 2,
      "outputs": []
    },
    {
      "cell_type": "code",
      "metadata": {
        "id": "UE2oCQII3RgF"
      },
      "source": [
        "train_x = [porco1, porco2,porco3, dog1,dog2,dog3]\n",
        "train_y = [1,1,1,0,0,0]\n"
      ],
      "execution_count": 3,
      "outputs": []
    },
    {
      "cell_type": "code",
      "metadata": {
        "colab": {
          "base_uri": "https://localhost:8080/"
        },
        "id": "QQnHygO53gQG",
        "outputId": "9ec3a6ec-adb1-4d08-af55-a58af6ed171e"
      },
      "source": [
        "#Scikit Learn\n",
        "\n",
        "from sklearn.svm import LinearSVC\n",
        "model = LinearSVC()\n",
        "model.fit(train_x,train_y)"
      ],
      "execution_count": 6,
      "outputs": [
        {
          "output_type": "execute_result",
          "data": {
            "text/plain": [
              "LinearSVC(C=1.0, class_weight=None, dual=True, fit_intercept=True,\n",
              "          intercept_scaling=1, loss='squared_hinge', max_iter=1000,\n",
              "          multi_class='ovr', penalty='l2', random_state=None, tol=0.0001,\n",
              "          verbose=0)"
            ]
          },
          "metadata": {
            "tags": []
          },
          "execution_count": 6
        }
      ]
    },
    {
      "cell_type": "code",
      "metadata": {
        "colab": {
          "base_uri": "https://localhost:8080/"
        },
        "id": "Uy9HQQx63q1X",
        "outputId": "e94525dd-e439-4064-eeb6-2ad8cec32ba9"
      },
      "source": [
        "animal = [1,1,1]\n",
        "model.predict([animal])"
      ],
      "execution_count": 9,
      "outputs": [
        {
          "output_type": "execute_result",
          "data": {
            "text/plain": [
              "array([0])"
            ]
          },
          "metadata": {
            "tags": []
          },
          "execution_count": 9
        }
      ]
    },
    {
      "cell_type": "code",
      "metadata": {
        "id": "3xVGa6ND4Oqm"
      },
      "source": [
        "mist = [1,1,1]\n",
        "mist2 = [1,1,0]\n",
        "mist3 = [0,1,1]\n",
        "\n",
        "test_x=[mist,mist2,mist3]\n",
        "test_y=[0,1,1]\n",
        "\n",
        "previsoes=model.predict(test_x)"
      ],
      "execution_count": 30,
      "outputs": []
    },
    {
      "cell_type": "code",
      "metadata": {
        "id": "IMp5FWMd4zK3"
      },
      "source": [
        "\n"
      ],
      "execution_count": 30,
      "outputs": []
    },
    {
      "cell_type": "code",
      "metadata": {
        "id": "YRUPI4515TGH"
      },
      "source": [
        "corretos=(previsoes == test_y).sum()"
      ],
      "execution_count": 31,
      "outputs": []
    },
    {
      "cell_type": "code",
      "metadata": {
        "colab": {
          "base_uri": "https://localhost:8080/"
        },
        "id": "EZJtGmnF5jJu",
        "outputId": "1e120a30-6460-4973-9eb1-20a60832d0b5"
      },
      "source": [
        "total=len(test)\n",
        "TAXA = corretos/total\n",
        "print(\"Taxa de acerto: %.2f \"%( TAXA*100))"
      ],
      "execution_count": 38,
      "outputs": [
        {
          "output_type": "stream",
          "text": [
            "Taxa de acerto: 66.67 \n"
          ],
          "name": "stdout"
        }
      ]
    },
    {
      "cell_type": "code",
      "metadata": {
        "colab": {
          "base_uri": "https://localhost:8080/"
        },
        "id": "R29REJw88aV_",
        "outputId": "de477078-8172-4425-9a4b-487ecdcf9087"
      },
      "source": [
        "taxa_de_acerto = accuracy_score(teste_classe, previsoes)\n",
        "print(\"Taxa de Acerto %.2f\" %( taxa_de_acerto*100))"
      ],
      "execution_count": 41,
      "outputs": [
        {
          "output_type": "stream",
          "text": [
            "Taxa de Acerto 66.67\n"
          ],
          "name": "stdout"
        }
      ]
    },
    {
      "cell_type": "code",
      "metadata": {
        "id": "JQQ6z10p9_wY"
      },
      "source": [
        ""
      ],
      "execution_count": null,
      "outputs": []
    }
  ]
}